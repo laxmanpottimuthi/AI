{
 "cells": [
  {
   "cell_type": "code",
   "execution_count": 3,
   "metadata": {},
   "outputs": [],
   "source": [
    "# class Node:\n",
    "#     def __init__(self,i,j,g,h,counter):\n",
    "#         self.i = i\n",
    "#         self.j = j\n",
    "#         self.g = g\n",
    "#         self.h = h\n",
    "#         self.f = g + h\n",
    "#         self.counter = counter\n",
    "#         self.previous = previous\n",
    "\n",
    "\n",
    "class Node:\n",
    "    def __init__(self,i,j,f):        \n",
    "        self.i = i\n",
    "        self.j = j\n",
    "        self.f = f\n",
    "\n",
    "class MinHeap:\n",
    "    def __init__(self):\n",
    "        self.heap = []\n",
    "    \n",
    "    def isEmpty(self):\n",
    "        return len(self.heap) == 0\n",
    "    \n",
    "    def addNode(self, node):\n",
    "        self.heap.append(node)\n",
    "        self._heapifyUp()\n",
    "        return self.heap\n",
    "\n",
    "    def getMinNode(self):\n",
    "        return self.heap[0]\n",
    "    \n",
    "    def popMinNode(self):\n",
    "        if len(self.heap) == 0:\n",
    "            return None\n",
    "        else:\n",
    "            minEle = self.heap[0]\n",
    "            self.heap[0] = self.heap[len(self.heap)-1]\n",
    "            self.heap.pop()\n",
    "            self._heapifyDown()\n",
    "            return minEle\n",
    "\n",
    "    def removeNode(self, node):\n",
    "        z = search(Node)\n",
    "        if z:\n",
    "            removed = self.heap[z]\n",
    "            self.heap[z] = self.heap[len(self.heap)-1]\n",
    "            self.heap.pop()\n",
    "            self._heapifyDownInd(z)\n",
    "            return removed\n",
    "        else:\n",
    "            self.addNode(newNode)\n",
    "            return self.heap\n",
    "    \n",
    "    def upsert(self,oldNode,newNode):\n",
    "        z = self.search(oldNode)\n",
    "        if z:\n",
    "            self.heap[z] = self.heap[len(self.heap)-1]\n",
    "            self.heap.pop()\n",
    "            self._heapifyDownInd(z)\n",
    "            self.addNode(newNode)\n",
    "            return self.heap\n",
    "        \n",
    "    def search(self, node):\n",
    "        heap = self.heap\n",
    "        for x in range(0,len(heap)):\n",
    "            if self.heap[x].i == node.i and self.heap[x].j == node.j:\n",
    "                return x\n",
    "                \n",
    "    def _heapifyUpInd(self, i):\n",
    "        heap = self.heap\n",
    "        size = i\n",
    "        if len(heap) == 1 :\n",
    "            return heap\n",
    "        else:\n",
    "            while size//2 > 0:\n",
    "                parent = (size)//2 - 1\n",
    "                curLast = size-1\n",
    "                if heap[curLast].f < heap[parent].f:\n",
    "                    swpNode = heap[curLast]\n",
    "                    heap[curLast] = heap[parent]\n",
    "                    heap[parent] = swpNode\n",
    "                size = size//2\n",
    "            return heap\n",
    "\n",
    "    def _heapifyUp(self):\n",
    "        self._heapifyUpInd(len(self.heap))\n",
    "    \n",
    "    def _heapifyDownInd(self,ind):\n",
    "        size = len(self.heap)\n",
    "        curr = ind\n",
    "        while (curr+1)*2 <= size:\n",
    "            minInd = self._nextMinNode(curr)      \n",
    "            if self.heap[minInd].f < self.heap[curr].f: #should change to priority\n",
    "                swpNode = self.heap[minInd]\n",
    "                self.heap[minInd] = self.heap[curr]\n",
    "                self.heap[curr] = swpNode\n",
    "            curr = minInd\n",
    "        return self.heap\n",
    "\n",
    "    def _heapifyDown(self):\n",
    "        self._heapifyDownInd(0)\n",
    "\n",
    "    def _nextMinNode(self, index):\n",
    "        if (index+1)*2 + 1 > len(self.heap):\n",
    "            return index*2 + 1 \n",
    "        else:\n",
    "            if self.heap[index*2 + 1].f < self.heap[index*2 + 2].f:\n",
    "                return index*2 + 1\n",
    "            else:\n",
    "                return index*2 + 2\n",
    "    \n",
    "    def printHeap(self):\n",
    "        heap = self.heap\n",
    "        for x in range(0,len(heap)):\n",
    "            print(\"i-\",heap[x].i,\"j-\",heap[x].j,\"f-\",heap[x].f)\n",
    "        \n",
    "    def size(self):\n",
    "        return len(self.heap)\n"
   ]
  },
  {
   "cell_type": "code",
   "execution_count": 4,
   "metadata": {},
   "outputs": [
    {
     "data": {
      "text/plain": [
       "9"
      ]
     },
     "execution_count": 4,
     "metadata": {},
     "output_type": "execute_result"
    }
   ],
   "source": [
    "heap = MinHeap()\n",
    "node1 = Node(1,1,10)\n",
    "node2 = Node(1,2,11)\n",
    "node3 = Node(2,1,12)\n",
    "node4 = Node(2,2,9)\n",
    "node5 = Node(2,3,15)\n",
    "node6 = Node(2,4,10)\n",
    "heap.addNode(node1)\n",
    "heap.addNode(node3)\n",
    "heap.addNode(node2)\n",
    "heap.addNode(node4)\n",
    "heap.addNode(node5)\n",
    "heap.addNode(node6)\n",
    "\n",
    "heap.addNode(Node(2,5,3))\n",
    "heap.addNode(Node(2,7,21))\n",
    "heap.addNode(Node(2,8,29))\n",
    "heap.size()\n",
    "# node1.f = 10;\n",
    "# node2.f = 11\n",
    "# node3.f = 12\n",
    "# node4.f = 13\n",
    "\n",
    "# heap.addNode(node1);\n"
   ]
  },
  {
   "cell_type": "code",
   "execution_count": 5,
   "metadata": {},
   "outputs": [
    {
     "name": "stdout",
     "output_type": "stream",
     "text": [
      "i- 2 j- 5 f- 3\n",
      "i- 1 j- 1 f- 10\n",
      "i- 2 j- 2 f- 9\n",
      "i- 2 j- 1 f- 12\n",
      "i- 2 j- 3 f- 15\n",
      "i- 1 j- 2 f- 11\n",
      "i- 2 j- 4 f- 10\n",
      "i- 2 j- 7 f- 21\n",
      "i- 2 j- 8 f- 29\n"
     ]
    }
   ],
   "source": [
    " heap.printHeap()"
   ]
  },
  {
   "cell_type": "code",
   "execution_count": 320,
   "metadata": {},
   "outputs": [],
   "source": [
    "# heap.getMinNode().f"
   ]
  },
  {
   "cell_type": "code",
   "execution_count": 321,
   "metadata": {},
   "outputs": [
    {
     "data": {
      "text/plain": [
       "[<__main__.Node at 0x1093c1588>,\n",
       " <__main__.Node at 0x10936c4a8>,\n",
       " <__main__.Node at 0x10936cb38>,\n",
       " <__main__.Node at 0x10936c5f8>,\n",
       " <__main__.Node at 0x10936c390>,\n",
       " <__main__.Node at 0x10936c6a0>,\n",
       " <__main__.Node at 0x10936c5c0>,\n",
       " <__main__.Node at 0x10936c518>,\n",
       " <__main__.Node at 0x10936cf98>]"
      ]
     },
     "execution_count": 321,
     "metadata": {},
     "output_type": "execute_result"
    }
   ],
   "source": [
    "heap.replaceNode(Node(1,2,11),Node(1,2,2))"
   ]
  },
  {
   "cell_type": "code",
   "execution_count": 322,
   "metadata": {},
   "outputs": [
    {
     "name": "stdout",
     "output_type": "stream",
     "text": [
      "0\n",
      "i- 1 j- 2 f- 2\n",
      "1\n",
      "i- 2 j- 5 f- 3\n",
      "2\n",
      "i- 2 j- 2 f- 9\n",
      "3\n",
      "i- 1 j- 1 f- 10\n",
      "4\n",
      "i- 2 j- 3 f- 15\n",
      "5\n",
      "i- 2 j- 8 f- 29\n",
      "6\n",
      "i- 2 j- 4 f- 10\n",
      "7\n",
      "i- 2 j- 7 f- 21\n",
      "8\n",
      "i- 2 j- 1 f- 12\n"
     ]
    }
   ],
   "source": [
    "heap.printHeap()"
   ]
  },
  {
   "cell_type": "code",
   "execution_count": 323,
   "metadata": {},
   "outputs": [
    {
     "data": {
      "text/plain": [
       "(1, 1, 10)"
      ]
     },
     "execution_count": 323,
     "metadata": {},
     "output_type": "execute_result"
    }
   ],
   "source": [
    "r.i,r.j,r.f"
   ]
  }
 ],
 "metadata": {
  "kernelspec": {
   "display_name": "Python 3",
   "language": "python",
   "name": "python3"
  },
  "language_info": {
   "codemirror_mode": {
    "name": "ipython",
    "version": 3
   },
   "file_extension": ".py",
   "mimetype": "text/x-python",
   "name": "python",
   "nbconvert_exporter": "python",
   "pygments_lexer": "ipython3",
   "version": "3.7.3"
  }
 },
 "nbformat": 4,
 "nbformat_minor": 4
}
